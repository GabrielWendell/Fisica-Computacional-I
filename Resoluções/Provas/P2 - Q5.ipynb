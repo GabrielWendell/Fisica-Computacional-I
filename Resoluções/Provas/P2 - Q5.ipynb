{
 "cells": [
  {
   "cell_type": "markdown",
   "metadata": {},
   "source": [
    "# Segunda Avaliação de Física Computacional I¶"
   ]
  },
  {
   "cell_type": "markdown",
   "metadata": {},
   "source": [
    "* Aluno : Gabriel Wendell Celestino Rocha\n",
    "* Matrícula :  20190112149 "
   ]
  },
  {
   "cell_type": "markdown",
   "metadata": {},
   "source": [
    "* Disciplina : Física Computacional I\n",
    "* Professor : Leonardo Machado\n",
    "* Data de Entrega : 13/11/2020"
   ]
  },
  {
   "cell_type": "code",
   "execution_count": 1,
   "metadata": {},
   "outputs": [],
   "source": [
    "import numpy as np\n",
    "import time"
   ]
  },
  {
   "cell_type": "markdown",
   "metadata": {},
   "source": [
    "## Problema 5."
   ]
  },
  {
   "cell_type": "markdown",
   "metadata": {},
   "source": [
    "### Letra a)"
   ]
  },
  {
   "cell_type": "markdown",
   "metadata": {},
   "source": [
    "Desejamos resolver o sistema abaixo utilizando método de Gauss-Jordan:"
   ]
  },
  {
   "cell_type": "markdown",
   "metadata": {},
   "source": [
    "$$2w+x+4y+z=-4$$"
   ]
  },
  {
   "cell_type": "markdown",
   "metadata": {},
   "source": [
    "$$3w+4x-y-z=3$$"
   ]
  },
  {
   "cell_type": "markdown",
   "metadata": {},
   "source": [
    "$$w-4x+y+5z=9$$"
   ]
  },
  {
   "cell_type": "markdown",
   "metadata": {},
   "source": [
    "$$2w-2x+y+3z=7$$"
   ]
  },
  {
   "cell_type": "markdown",
   "metadata": {},
   "source": [
    "Primeiramente vamos definir nossa matriz `A` e nosso vetor coluna `v`:"
   ]
  },
  {
   "cell_type": "code",
   "execution_count": 2,
   "metadata": {},
   "outputs": [],
   "source": [
    "A = np.matrix([[2, 1, 4, 1],\n",
    "              [3, 4,-1,-1],\n",
    "              [1,-4, 1, 5],\n",
    "              [2,-2, 1, 3]],float)  \n",
    "v = np.array([-4,3,9,7],float)\n",
    "\n",
    "N = len(v)\n",
    "x = np.zeros(N)"
   ]
  },
  {
   "cell_type": "markdown",
   "metadata": {},
   "source": [
    "Agora definimos uma função que chamaremos de `GaussJordan(A,v)` que irá implementar o método de eliminação de Gauss-Jordan:"
   ]
  },
  {
   "cell_type": "code",
   "execution_count": 3,
   "metadata": {},
   "outputs": [],
   "source": [
    "def GaussJordan(A,v):\n",
    "    k = 0\n",
    "    for i in range(N):\n",
    "        if A[i,i]==0:\n",
    "            while k < N-2:\n",
    "                if A[k+1,i]>A[k,k]:\n",
    "                    aux_x = A[k+1,:]\n",
    "                    A[k+1,:] = A[k,:] \n",
    "                    A[k,:] = aux_x\n",
    "                    \n",
    "                    row_number = k+1\n",
    "                k += 1\n",
    "        else:\n",
    "            v[i] = v[i]/A[i,i]\n",
    "            A[i,:] = A[i,:]/A[i,i]\n",
    "            for j in range(i+1,N):\n",
    "                mult = -(A[j,i])/A[i,i]\n",
    "                A[j,:] = A[j,:] + mult*A[i,:]\n",
    "                v[j] = v[j] + mult*v[i]\n",
    "\n",
    "    v[N-1] = v[N-1]/A[N-1,N-1]\n",
    "    A[N-1,N-1] = 1.0\n",
    "    \n",
    "    for k in range(N-1):\n",
    "        for p in range(k+1,N):\n",
    "            mult = -(A[k,p])\n",
    "            A[k,:] = A[k,:] + mult*A[p,:]\n",
    "            v[k] = v[k] + mult*v[p]\n",
    "\n",
    "    return v;"
   ]
  },
  {
   "cell_type": "markdown",
   "metadata": {},
   "source": [
    "Agora usamos a nossa função para resolver o sistema proposto na questão:"
   ]
  },
  {
   "cell_type": "code",
   "execution_count": 4,
   "metadata": {},
   "outputs": [
    {
     "name": "stdout",
     "output_type": "stream",
     "text": [
      "- Solução: \n",
      "\n",
      "[ 2. -1. -2.  1.] \n",
      "\n",
      "- Matriz Diagonal: \n",
      "\n",
      "[[ 1.  0.  0.  0.]\n",
      " [ 0.  1.  0.  0.]\n",
      " [-0. -0.  1.  0.]\n",
      " [-0. -0. -0.  1.]]\n"
     ]
    }
   ],
   "source": [
    "print(\"- Solução: \\n\")\n",
    "print(GaussJordan(A,v),\"\\n\")\n",
    "print('- Matriz Diagonal: \\n')\n",
    "print(A)"
   ]
  },
  {
   "cell_type": "markdown",
   "metadata": {},
   "source": [
    "### Letra b)"
   ]
  },
  {
   "cell_type": "markdown",
   "metadata": {},
   "source": [
    "Primeiramente, vamos carregar um vetor (`v3`) e uma matriz (`A3`) armazenados em um arquivo de texto nomeados `vetor3.txt` e `matriz3.txt`, respectivamente:"
   ]
  },
  {
   "cell_type": "code",
   "execution_count": 5,
   "metadata": {},
   "outputs": [],
   "source": [
    "v3 = np.array(np.loadtxt(\"vetor3.txt\", float))\n",
    "A3 = np.array(np.loadtxt(\"matriz3.txt\", float))\n",
    "\n",
    "v2 = v3\n",
    "A2 = A3"
   ]
  },
  {
   "cell_type": "markdown",
   "metadata": {},
   "source": [
    "Definimos as variáveis `N` e `x`:"
   ]
  },
  {
   "cell_type": "code",
   "execution_count": 6,
   "metadata": {},
   "outputs": [],
   "source": [
    "N = len(v)\n",
    "x = np.zeros(N)"
   ]
  },
  {
   "cell_type": "markdown",
   "metadata": {},
   "source": [
    "Agora implementamos o método da eliminação de Gauss por meio da função `GaussElim(A,v)`:"
   ]
  },
  {
   "cell_type": "code",
   "execution_count": 7,
   "metadata": {},
   "outputs": [],
   "source": [
    "def GaussElim(A,v):\n",
    "    for i in range(N):\n",
    "        v[i] = v[i]/A[i,i]\n",
    "        A[i,:] = A[i,:]/A[i,i]\n",
    "        for j in range(i+1,N):\n",
    "            mult = -(A[j,i])/A[i,i]\n",
    "            A[j,:] = A[j,:] + mult*A[i,:]\n",
    "            v[j] = v[j] + mult*v[i]\n",
    "    v[N-1] = v[N-1]/A[N-1,N-1]\n",
    "    A[N-1,N-1] = 1.0\n",
    "\n",
    "    \n",
    "    for i in range(N-1,-1,-1):\n",
    "        x[i] = v[i]\n",
    "        for j in range(i+1,N):\n",
    "            x[i] -= A[i,j]*x[j]\n",
    "    \n",
    "    return x;"
   ]
  },
  {
   "cell_type": "markdown",
   "metadata": {},
   "source": [
    "Agora printamos as soluções do sistema de equações presente no arquivo de texto usando o método de Gauss-Jordan e o tempo de execução:"
   ]
  },
  {
   "cell_type": "code",
   "execution_count": 8,
   "metadata": {},
   "outputs": [
    {
     "name": "stdout",
     "output_type": "stream",
     "text": [
      "\n",
      "1) Método de Gauss-Jordan:\n",
      "\n",
      "[  2.2313253    0.08192771  -0.49879518   0.10361446  -1.\n",
      "  -2.           9.          -8.           0.          -3.\n",
      "   2.          -6.           4.          -8.          -4.\n",
      "  -2.           8.          -5.          -8.           1.\n",
      "   8.          -2.           8.          -2.           1.\n",
      "   2.           9.           1.           6.           0.\n",
      "   0.           8.           2.           9.           8.\n",
      "  -8.           8.          -7.          -8.          -3.\n",
      "  -6.          -7.           5.          -1.          -9.\n",
      "  -8.          -6.           9.          -9.          -2.\n",
      "  -4.           6.          -8.           6.           1.\n",
      "   7.           2.           4.          -5.           1.\n",
      "   7.           9.           6.          -7.          -5.\n",
      "   3.           9.           0.           5.           3.\n",
      "  -7.           7.          -4.           0.           0.\n",
      "   9.           0.          -4.           7.          -3.\n",
      "  -5.         -10.          -5.          -9.           8.\n",
      "   3.          -6.           5.          -1.          -4.\n",
      "  -3.          -8.          -1.           1.          -7.\n",
      "  -6.           1.          -6.          -1.          -3.        ]\n",
      "Wall time: 1.99 ms\n"
     ]
    }
   ],
   "source": [
    "print('\\n1) Método de Gauss-Jordan:\\n')\n",
    "%time print(GaussJordan(A3,v3))"
   ]
  },
  {
   "cell_type": "markdown",
   "metadata": {},
   "source": [
    "Agora fazemos o mesmo que foi feito anteriormente, porém usando o método de eliminação de Gauss:"
   ]
  },
  {
   "cell_type": "code",
   "execution_count": 9,
   "metadata": {},
   "outputs": [
    {
     "name": "stdout",
     "output_type": "stream",
     "text": [
      "\n",
      "2) Método de eliminação Gaussiana:\n",
      "\n",
      "[ 2.2313253   0.08192771 -0.49879518  0.10361446]\n",
      "Wall time: 1 ms\n"
     ]
    }
   ],
   "source": [
    "print('\\n2) Método de eliminação Gaussiana:\\n')\n",
    "%time print(GaussElim(A2,v2))"
   ]
  },
  {
   "cell_type": "markdown",
   "metadata": {},
   "source": [
    "Como se bem pode ver, o método de eliminação Gaussiana foi executado mais rapidamente."
   ]
  },
  {
   "cell_type": "markdown",
   "metadata": {},
   "source": [
    "### Letra c)"
   ]
  },
  {
   "cell_type": "markdown",
   "metadata": {},
   "source": [
    "No algoritmo QR, sabe-se de antemão que a matriz final é semelhante à matriz inicial. Entretanto, o mesmo não é verdade para o método de Gauss-Jordan."
   ]
  }
 ],
 "metadata": {
  "kernelspec": {
   "display_name": "Python 3",
   "language": "python",
   "name": "python3"
  },
  "language_info": {
   "codemirror_mode": {
    "name": "ipython",
    "version": 3
   },
   "file_extension": ".py",
   "mimetype": "text/x-python",
   "name": "python",
   "nbconvert_exporter": "python",
   "pygments_lexer": "ipython3",
   "version": "3.7.5"
  }
 },
 "nbformat": 4,
 "nbformat_minor": 2
}
