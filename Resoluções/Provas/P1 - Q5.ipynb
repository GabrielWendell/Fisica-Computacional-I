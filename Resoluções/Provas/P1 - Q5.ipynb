{
 "cells": [
  {
   "cell_type": "markdown",
   "metadata": {},
   "source": [
    "# Primeira Avaliação de Física Computacional I"
   ]
  },
  {
   "cell_type": "markdown",
   "metadata": {},
   "source": [
    "* Aluno : Gabriel Wendell Celestino Rocha\n",
    "* Matrícula :  20190112149 "
   ]
  },
  {
   "cell_type": "markdown",
   "metadata": {},
   "source": [
    "* Disciplina : Física Computacional I\n",
    "* Professor : Leonardo Machado\n",
    "* Data de Entrega : 01/10/2020"
   ]
  },
  {
   "cell_type": "code",
   "execution_count": 2,
   "metadata": {},
   "outputs": [],
   "source": [
    "import numpy as np"
   ]
  },
  {
   "cell_type": "markdown",
   "metadata": {},
   "source": [
    "## Problema 5."
   ]
  },
  {
   "cell_type": "markdown",
   "metadata": {},
   "source": [
    "### Letra a)"
   ]
  },
  {
   "cell_type": "markdown",
   "metadata": {},
   "source": [
    "Desejamos resolver a integral abaixo usando os métodos do trapézio, Simpson e Euler-Maclaurin, respectivamente. Para isso, vamos definir uma função `f(x)` que retornará a função a ser integrada."
   ]
  },
  {
   "cell_type": "markdown",
   "metadata": {},
   "source": [
    "$$\\int_{0}^{2}(x^{5}-2x^{2}+1)dx$$"
   ]
  },
  {
   "cell_type": "code",
   "execution_count": 3,
   "metadata": {},
   "outputs": [],
   "source": [
    "def f(x):\n",
    "    return (x**5)-2*(x**2)+1"
   ]
  },
  {
   "cell_type": "markdown",
   "metadata": {},
   "source": [
    "Vamos agora definir duas funções chamadas `trap(a,b,N)` e `simpson(a,b,N)` que irão resolver a nossa integral utilizando os métodos do trapézio e Simpson, respectivamente:"
   ]
  },
  {
   "cell_type": "code",
   "execution_count": 4,
   "metadata": {},
   "outputs": [],
   "source": [
    "def trap(a,b,N):\n",
    "    h = (b-a)/N\n",
    "\n",
    "    integral = 0.5*(f(a)+f(b))\n",
    "\n",
    "    for k in range(1,N):\n",
    "        integral = integral + f(a+k*h)\n",
    "    \n",
    "    return h*integral"
   ]
  },
  {
   "cell_type": "code",
   "execution_count": 5,
   "metadata": {},
   "outputs": [],
   "source": [
    "def simpson(a,b,N):\n",
    "    h = (b-a)/N\n",
    "    \n",
    "    odd_sum = 0\n",
    "    for k in range(1, N, 2):\n",
    "        odd_sum += f(a+k*h)\n",
    "\n",
    "    even_sum = 0\n",
    "    for k in range(2, N, 2):\n",
    "        even_sum += f(a+k*h)\n",
    "\n",
    "    return (1/3)*h*(f(a)+f(b)+4*odd_sum+2*even_sum)"
   ]
  },
  {
   "cell_type": "markdown",
   "metadata": {},
   "source": [
    "Agora vamos tentar implementar o método de Euler-Maclaurin para resolver a nossa integral. O método de EUler-Maclaurin nos diz que podemos resolver uma integral da seguinte forma:"
   ]
  },
  {
   "cell_type": "markdown",
   "metadata": {},
   "source": [
    "$$\\int_{a}^{b}f(x)dx=h\\Bigg[\\frac{1}{2}f(a)+\\frac{1}{2}f(b)+\\sum_{k=1}^{N-1}f(a+kh)\\Bigg]+\\frac{1}{12}h^{2}[f'(a)-f'(b)]+O(h^{4})$$"
   ]
  },
  {
   "cell_type": "markdown",
   "metadata": {},
   "source": [
    "Note que teremos que trabalhar com as derivadas da função nos extremos do intervalo. Para isso, vamos agora criar mais duas funções, `deriv(x,h)` e `w(k,N)` que irão calcular as derivadas utilizando o método das diferenças centradas em $a$ e em $b$ e os pesos que usaremos no método de Euler-Maclaurin, respectivamente."
   ]
  },
  {
   "cell_type": "code",
   "execution_count": 6,
   "metadata": {},
   "outputs": [],
   "source": [
    "def w(k,N):\n",
    "    if k==0 or k==N:\n",
    "        return 0.5\n",
    "    else:\n",
    "        return 1"
   ]
  },
  {
   "cell_type": "code",
   "execution_count": 7,
   "metadata": {},
   "outputs": [],
   "source": [
    "def deriv(x):\n",
    "    h=10**-5\n",
    "    return (f(x+(h/2)) - f(x-(h/2)))/h"
   ]
  },
  {
   "cell_type": "markdown",
   "metadata": {},
   "source": [
    "Por fim, vamos criar uma última função chamada `euler_mac(a,b,N)` que irá implementar o método de Euler-Maclaurin"
   ]
  },
  {
   "cell_type": "code",
   "execution_count": 8,
   "metadata": {},
   "outputs": [],
   "source": [
    "def euler_mac(a,b,N):\n",
    "    h = (b-a)/N\n",
    "    \n",
    "    integral = 0\n",
    "    for k in range(N+1):\n",
    "        integral += w(k,N)*f(a+(k*h))\n",
    "\n",
    "    integral = integral*h\n",
    "    integral += ((h**2)/12)*(deriv(a)-deriv(b))\n",
    "    \n",
    "    return integral"
   ]
  },
  {
   "cell_type": "markdown",
   "metadata": {},
   "source": [
    "Agora vamos chamar as nossas três funções e resolver a nossa integral por cada um dos métodos. Vamos usar um número $N=10$ de fatias"
   ]
  },
  {
   "cell_type": "code",
   "execution_count": 9,
   "metadata": {},
   "outputs": [
    {
     "name": "stdout",
     "output_type": "stream",
     "text": [
      "Método do trapézio:  7.572800000000001\n",
      "Método de Simpson:  7.335466666666668\n",
      "Método de Euler-Maclaurin:  7.332800000000797\n"
     ]
    }
   ],
   "source": [
    "print('Método do trapézio: ', trap(0,2,10))\n",
    "print('Método de Simpson: ', simpson(0,2,10))\n",
    "print('Método de Euler-Maclaurin: ', euler_mac(0,2,10))"
   ]
  },
  {
   "cell_type": "markdown",
   "metadata": {},
   "source": [
    "Vamos resolver analiticamente a nossa integral para podermos comparar os resultados obtidos por cada método:"
   ]
  },
  {
   "cell_type": "markdown",
   "metadata": {},
   "source": [
    "$$\\int_{0}^{2}(x^{5}-2x^{2}+1)dx=\\frac{x^{6}}{6}\\Bigg|_{0}^{2}-\\frac{2x^{3}}{3}\\Bigg|_{0}^{2}+x|_{0}^{2}=\\frac{2^{6}}{6}-\\frac{2\\cdot2^{3}}{3}+2=7.333\\ldots=7.\\overline{3}$$"
   ]
  },
  {
   "cell_type": "markdown",
   "metadata": {},
   "source": [
    "$\\square$"
   ]
  },
  {
   "cell_type": "markdown",
   "metadata": {},
   "source": [
    "### Letra b)"
   ]
  },
  {
   "cell_type": "markdown",
   "metadata": {},
   "source": [
    "Com base nos resultados expostos no item anterior, podemos notar que o método de Euler-Maclaurin e o método de Simpson nos fornecem resultados muito próximos um do outro, são faceis de se implementar e nos permitem calcular o erro em nossas integrais. "
   ]
  },
  {
   "cell_type": "markdown",
   "metadata": {},
   "source": [
    "Entretanto, esses resultados só podem ser obtidos caso tenhamos uma fórmula fechada para o nosso integrando, e na maioria das vezes isso não acontece. Um exemplo nítido seria um onde o integrando não é uma função conhecida mas sim um conjunto de dados coletados em laboratória através de uma série de experimentos. "
   ]
  },
  {
   "cell_type": "markdown",
   "metadata": {},
   "source": [
    "Como na maioria das vezes tanto na Física quanto na Matemática não se conhece a função a ser integrada, isso justificaria o pouco uso tanto da regra de Simpson quanto da regra de Euler-Maclaurin."
   ]
  },
  {
   "cell_type": "markdown",
   "metadata": {},
   "source": [
    "$\\square$"
   ]
  }
 ],
 "metadata": {
  "kernelspec": {
   "display_name": "Python 3",
   "language": "python",
   "name": "python3"
  },
  "language_info": {
   "codemirror_mode": {
    "name": "ipython",
    "version": 3
   },
   "file_extension": ".py",
   "mimetype": "text/x-python",
   "name": "python",
   "nbconvert_exporter": "python",
   "pygments_lexer": "ipython3",
   "version": "3.8.5"
  }
 },
 "nbformat": 4,
 "nbformat_minor": 4
}
