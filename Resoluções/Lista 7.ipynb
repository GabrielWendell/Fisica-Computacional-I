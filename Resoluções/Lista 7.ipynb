{
 "cells": [
  {
   "cell_type": "markdown",
   "metadata": {},
   "source": [
    "# Lista de Exercícios VII"
   ]
  },
  {
   "cell_type": "markdown",
   "metadata": {},
   "source": [
    "* Aluno : Gabriel Wendell Celestino Rocha\n",
    "* Matrícula :  20190112149 "
   ]
  },
  {
   "cell_type": "markdown",
   "metadata": {},
   "source": [
    "* Disciplina : Física Computacional I\n",
    "* Professor : Leonardo Machado\n",
    "* Data de Entrega : 03/11/2020"
   ]
  },
  {
   "cell_type": "code",
   "execution_count": 1,
   "metadata": {},
   "outputs": [],
   "source": [
    "import numpy as np"
   ]
  },
  {
   "cell_type": "markdown",
   "metadata": {},
   "source": [
    "## Problema 1"
   ]
  },
  {
   "cell_type": "markdown",
   "metadata": {},
   "source": [
    "### Letra a)"
   ]
  },
  {
   "cell_type": "markdown",
   "metadata": {},
   "source": [
    "Primeiramente, vamos escrever de forma explicita as equações para as outras três junções, serão elas:"
   ]
  },
  {
   "cell_type": "markdown",
   "metadata": {},
   "source": [
    "$$\\frac{V_{2}-V_{1}}{R}+\\frac{V_{2}-V_{4}}{R}+\\frac{V_{2}-0}{R}=0$$"
   ]
  },
  {
   "cell_type": "markdown",
   "metadata": {},
   "source": [
    "$$\\frac{V_{3}-V_{1}}{R}+\\frac{V_{3}-V_{4}}{R}+\\frac{V_{3}-V_{+}}{R}=0$$"
   ]
  },
  {
   "cell_type": "markdown",
   "metadata": {},
   "source": [
    "$$\\frac{V_{4}-V_{1}}{R}+\\frac{V_{4}-V_{2}}{R}+\\frac{V_{4}-V_{3}}{R}+\\frac{V_{4}-0}{R}=0$$"
   ]
  },
  {
   "cell_type": "markdown",
   "metadata": {},
   "source": [
    "Note que com as três equações acima obtemos o seguinte sistema de equações na forma matricial:"
   ]
  },
  {
   "cell_type": "markdown",
   "metadata": {},
   "source": [
    "$$\\begin{gather} \\begin{pmatrix} 4 & -1 & -1 & -1\\\\ -1 & 3 & 0 & -1\\\\ -1 & 0 & 3 & -1\\\\ -1 & -1 & -1 & 4 \\end{pmatrix} \\begin{pmatrix} V_1\\\\ V_2\\\\ V_3\\\\ V_4 \\end{pmatrix} = \\begin{pmatrix} V_+ \\\\ 0\\\\ V_+ \\\\0 \\end{pmatrix} \\end{gather}$$"
   ]
  },
  {
   "cell_type": "markdown",
   "metadata": {},
   "source": [
    "$\\blacksquare$"
   ]
  },
  {
   "cell_type": "markdown",
   "metadata": {},
   "source": [
    "### Letra b)"
   ]
  },
  {
   "cell_type": "markdown",
   "metadata": {},
   "source": [
    "Primeiramente, note que desejamos resolver uma equação em $x$ do tipo $Ax=v$, onde:"
   ]
  },
  {
   "cell_type": "markdown",
   "metadata": {},
   "source": [
    "$$A = \\begin{pmatrix} 4 & -1 & -1 & -1\\\\ -1 & 3 & 0 & -1\\\\ -1 & 0 & 3 & -1\\\\ -1 & -1 & -1 & 4 \\end{pmatrix}\\text{    ;       }\\text{   }v = \\begin{pmatrix} V_+\\\\ 0\\\\ V_+ \\\\0 \\end{pmatrix}$$"
   ]
  },
  {
   "cell_type": "markdown",
   "metadata": {},
   "source": [
    "Desejamos resolver a equação matricial acima e obter as voltagens que constituem a solução do sistema de equações apresentados na **Letra a)**, para isso, vamos implementar o método da eliminação de Gauss. Primeiro definimos a nossa matriz quadrada `A` e o nosso vetor coluna `v`:"
   ]
  },
  {
   "cell_type": "code",
   "execution_count": 2,
   "metadata": {},
   "outputs": [],
   "source": [
    "A = np.array ([[4,-1,-1,-1],\n",
    "               [-1,3,0,-1],\n",
    "               [-1,0,3,-1],\n",
    "               [-1,-1,-1,4]],dtype = float)\n",
    "v = np.array ([5 , 0 , 5 , 0],dtype = float)\n",
    "N = len(v)"
   ]
  },
  {
   "cell_type": "markdown",
   "metadata": {},
   "source": [
    "Agora implementamos o método de eliminação gaussiana:"
   ]
  },
  {
   "cell_type": "code",
   "execution_count": 3,
   "metadata": {},
   "outputs": [],
   "source": [
    "for row in range (N):\n",
    "    div = A[row,row]\n",
    "    A[row,:] /= div\n",
    "    v[row] /= div\n",
    "    \n",
    "    for i in range (row + 1 , N):\n",
    "        mult = A[i,row]\n",
    "        A[i , :] -= mult*A[row,:]\n",
    "        v[i] -= mult*v[row]"
   ]
  },
  {
   "cell_type": "markdown",
   "metadata": {},
   "source": [
    "Agora resolvemos a nossa equação matricial em `x`:"
   ]
  },
  {
   "cell_type": "code",
   "execution_count": 4,
   "metadata": {},
   "outputs": [
    {
     "name": "stdout",
     "output_type": "stream",
     "text": [
      "x =  [3.         1.66666667 3.33333333 2.        ]\n"
     ]
    }
   ],
   "source": [
    "x = np.empty (N , dtype = float)\n",
    "\n",
    "for row in range (N-1,-1,-1):\n",
    "    # print (row)\n",
    "    x[row] = v[row]\n",
    "    for col in range (row+1 , N):\n",
    "        x[row] -= A[row,col]*x[col]\n",
    "        \n",
    "print('x = ', x)"
   ]
  },
  {
   "cell_type": "markdown",
   "metadata": {},
   "source": [
    "### Letra c)"
   ]
  },
  {
   "cell_type": "markdown",
   "metadata": {},
   "source": [
    "Agora vamos resolver a mesma equação matricial resolvida anteriormente usando a função `np.linal.solve()` do Numpy para podermos comparar com o resultado que obtivemos:"
   ]
  },
  {
   "cell_type": "code",
   "execution_count": 5,
   "metadata": {},
   "outputs": [
    {
     "data": {
      "text/plain": [
       "array([3.        , 1.66666667, 3.33333333, 2.        ])"
      ]
     },
     "execution_count": 5,
     "metadata": {},
     "output_type": "execute_result"
    }
   ],
   "source": [
    "np.linalg.solve(A,v)"
   ]
  },
  {
   "cell_type": "markdown",
   "metadata": {},
   "source": [
    "Note que obtivemos basicamente o mesmo resultado usando a função `np.linalg.solve()`."
   ]
  },
  {
   "cell_type": "markdown",
   "metadata": {},
   "source": [
    "$\\text{ }$"
   ]
  },
  {
   "cell_type": "markdown",
   "metadata": {},
   "source": [
    "## Problema 2"
   ]
  },
  {
   "cell_type": "markdown",
   "metadata": {},
   "source": [
    "Desejamos implementar o método de eliminação Gaussiana incluindo o método de pivotização para resolver os dois sistemas apresentados abaixo:"
   ]
  },
  {
   "cell_type": "markdown",
   "metadata": {},
   "source": [
    "**Sistema 1:**"
   ]
  },
  {
   "cell_type": "markdown",
   "metadata": {},
   "source": [
    "$$2w+x+4y+z=-4$$"
   ]
  },
  {
   "cell_type": "markdown",
   "metadata": {},
   "source": [
    "$$3w+4x-y-z=3$$"
   ]
  },
  {
   "cell_type": "markdown",
   "metadata": {},
   "source": [
    "$$w-4x+y+5z=9$$"
   ]
  },
  {
   "cell_type": "markdown",
   "metadata": {},
   "source": [
    "$$2w-2x+y+3z=7$$"
   ]
  },
  {
   "cell_type": "markdown",
   "metadata": {},
   "source": [
    "**Sistema 2:**"
   ]
  },
  {
   "cell_type": "markdown",
   "metadata": {},
   "source": [
    "$$\\begin{gather} \\begin{pmatrix} 0 & 1 & 4 & 1\\\\ 3 & 4 & -1 & -1\\\\ 1 & -4 & 1 & 5\\\\ 2 & -2 & 1 & 3 \\end{pmatrix} \\begin{pmatrix} w\\\\ x\\\\ y\\\\ z \\end{pmatrix} = \\begin{pmatrix} -4 \\\\ 3\\\\ 9 \\\\7 \\end{pmatrix} \\end{gather}$$"
   ]
  },
  {
   "cell_type": "markdown",
   "metadata": {},
   "source": [
    "Para resolver tais sistemas, fazemos um processo semelhante ao que foi feito no problema 1:"
   ]
  },
  {
   "cell_type": "code",
   "execution_count": 6,
   "metadata": {},
   "outputs": [],
   "source": [
    "A = np.array ([[0,1,4,1],\n",
    "               [3,4,-1,-1],\n",
    "               [1,-4,1,5],\n",
    "               [2,-2,1,3]],dtype = float)\n",
    "v = np.array ([-4 , 3 , 9 , 7],dtype = float)\n",
    "N = len(v)"
   ]
  },
  {
   "cell_type": "markdown",
   "metadata": {},
   "source": [
    "Agora implementamos a eliminação Gaussiana, mas desta vez incluímos o método de pivotização (ou pivotagem):"
   ]
  },
  {
   "cell_type": "code",
   "execution_count": 7,
   "metadata": {},
   "outputs": [],
   "source": [
    "for row in range (N):\n",
    "    \n",
    "    # Aqui implementamos o métoo de pivotização parcial\n",
    "    for i in range (row+1,N):\n",
    "        if abs(A[row,row]) < abs(A[i,row]):\n",
    "            # Aqui comutamos as linhas\n",
    "            A[[row,i],:] = A[[i,row],:]            \n",
    "            v[[row,i]] = v[[i,row]] \n",
    "            \n",
    "    div = A[row,row]\n",
    "    A[row,:] /= div\n",
    "    v[row] /= div\n",
    "    \n",
    "    for i in range (row + 1 , N):\n",
    "        mult = A[i,row]\n",
    "        A[i , :] -= mult*A[row,:]\n",
    "        v[i] -= mult*v[row]"
   ]
  },
  {
   "cell_type": "markdown",
   "metadata": {},
   "source": [
    "Por fim, resolvemos nossos sistemas em `x`:"
   ]
  },
  {
   "cell_type": "code",
   "execution_count": 8,
   "metadata": {},
   "outputs": [
    {
     "name": "stdout",
     "output_type": "stream",
     "text": [
      "x =  [ 1.61904762 -0.42857143 -1.23809524  1.38095238]\n"
     ]
    }
   ],
   "source": [
    "x = np.empty (N , dtype = float)\n",
    "\n",
    "for row in range (N-1,-1,-1):\n",
    "    # print (row)\n",
    "    x[row] = v[row]\n",
    "    for col in range (row+1 , N):\n",
    "        x[row] -= A[row,col]*x[col]\n",
    "        \n",
    "print('x = ', x)"
   ]
  },
  {
   "cell_type": "markdown",
   "metadata": {},
   "source": [
    "$\\text{ }$"
   ]
  },
  {
   "cell_type": "markdown",
   "metadata": {},
   "source": [
    "## Problema 3"
   ]
  },
  {
   "cell_type": "markdown",
   "metadata": {},
   "source": [
    "### Letra a)"
   ]
  },
  {
   "cell_type": "markdown",
   "metadata": {},
   "source": [
    "Nosso objetivo aqui é realizar a decomposição LU da matriz que representa o sistema abaixo:"
   ]
  },
  {
   "cell_type": "markdown",
   "metadata": {},
   "source": [
    "$$2w+x+4y+z=-4$$"
   ]
  },
  {
   "cell_type": "markdown",
   "metadata": {},
   "source": [
    "$$3w+4x-y-z=3$$"
   ]
  },
  {
   "cell_type": "markdown",
   "metadata": {},
   "source": [
    "$$w-4x+y+5z=9$$"
   ]
  },
  {
   "cell_type": "markdown",
   "metadata": {},
   "source": [
    "$$2w-2x+y+3z=7$$"
   ]
  },
  {
   "cell_type": "markdown",
   "metadata": {},
   "source": [
    "Primeiramente, definimos a matriz quadrada `A` na qual desejamos aplicar a decomposição LU:"
   ]
  },
  {
   "cell_type": "code",
   "execution_count": 9,
   "metadata": {},
   "outputs": [],
   "source": [
    "A = np.array ([[2,1,4,1],\n",
    "              [3,4,-1,-1],\n",
    "              [1,-4,1,5],\n",
    "              [2,-2,1,3]],dtype = float)\n",
    "N = len(A)"
   ]
  },
  {
   "cell_type": "markdown",
   "metadata": {},
   "source": [
    "Agora comelamos a implementação da decomposição LU definindo `L` e `U` :"
   ]
  },
  {
   "cell_type": "code",
   "execution_count": 10,
   "metadata": {},
   "outputs": [],
   "source": [
    "L = np.zeros_like (A,dtype = float)\n",
    "U = np.zeros_like (A,dtype = float)"
   ]
  },
  {
   "cell_type": "markdown",
   "metadata": {},
   "source": [
    "Analogamente ao que fizemos nos problemas anteriores, implementamos a eliminação Gaussiana:"
   ]
  },
  {
   "cell_type": "code",
   "execution_count": 11,
   "metadata": {},
   "outputs": [],
   "source": [
    "for row in range (N):\n",
    "    \n",
    "    # A matriz L terá quase as mesmas colunas da matriz A. \n",
    "    # Isso será corrigido posteriormente.\n",
    "    L[:,row] = A[:,row] \n",
    "    \n",
    "    div = A[row,row]\n",
    "    A[row,:] /= div\n",
    "    \n",
    "    for i in range (row + 1 , N):\n",
    "        mult = A[i,row]\n",
    "        A[i,:] -= mult*A[row,:]"
   ]
  },
  {
   "cell_type": "markdown",
   "metadata": {},
   "source": [
    "Agora que a eliminação Gaussiana está concluída, `A` é uma matriz superior:"
   ]
  },
  {
   "cell_type": "code",
   "execution_count": 12,
   "metadata": {},
   "outputs": [],
   "source": [
    "U = A"
   ]
  },
  {
   "cell_type": "markdown",
   "metadata": {},
   "source": [
    "Agora vamos corrigir a matriz `L` e transformá-la numa matriz inferior:"
   ]
  },
  {
   "cell_type": "code",
   "execution_count": 13,
   "metadata": {},
   "outputs": [],
   "source": [
    "for row in range (N):\n",
    "    # Os elementos superiores possuem um índice de coluna sempre maior que o índice de linha (j > i)\n",
    "    for col in range (row+1,N): \n",
    "        # Os elementos superiores são nulos.\n",
    "        L[row,col] = 0 "
   ]
  },
  {
   "cell_type": "markdown",
   "metadata": {},
   "source": [
    "Vamos começar printando a matriz `L`"
   ]
  },
  {
   "cell_type": "code",
   "execution_count": 14,
   "metadata": {},
   "outputs": [
    {
     "name": "stdout",
     "output_type": "stream",
     "text": [
      " L : \n",
      " [[  2.    0.    0.    0. ]\n",
      " [  3.    2.5   0.    0. ]\n",
      " [  1.   -4.5 -13.6   0. ]\n",
      " [  2.   -3.  -11.4  -1. ]] \n",
      "\n",
      "\n"
     ]
    }
   ],
   "source": [
    "print (' L : \\n', L ,'\\n\\n')"
   ]
  },
  {
   "cell_type": "markdown",
   "metadata": {},
   "source": [
    "Agora printamos a matriz `U`"
   ]
  },
  {
   "cell_type": "code",
   "execution_count": 15,
   "metadata": {},
   "outputs": [
    {
     "name": "stdout",
     "output_type": "stream",
     "text": [
      " U : \n",
      " [[ 1.   0.5  2.   0.5]\n",
      " [ 0.   1.  -2.8 -1. ]\n",
      " [-0.  -0.   1.  -0. ]\n",
      " [-0.  -0.  -0.   1. ]] \n",
      "\n",
      "\n"
     ]
    }
   ],
   "source": [
    "print (' U : \\n', U ,'\\n\\n')"
   ]
  },
  {
   "cell_type": "markdown",
   "metadata": {},
   "source": [
    "Por fim, mulitplicamos as matriz `L` e `U` com o auxílio da função `np.dot(L,U)` para obtermos a matriz original `A`:"
   ]
  },
  {
   "cell_type": "code",
   "execution_count": 16,
   "metadata": {},
   "outputs": [
    {
     "name": "stdout",
     "output_type": "stream",
     "text": [
      " A : \n",
      " [[ 2.  1.  4.  1.]\n",
      " [ 3.  4. -1. -1.]\n",
      " [ 1. -4.  1.  5.]\n",
      " [ 2. -2.  1.  3.]] \n",
      "\n",
      "\n"
     ]
    }
   ],
   "source": [
    "print (' A : \\n', np.dot(L,U) ,'\\n\\n')"
   ]
  },
  {
   "cell_type": "markdown",
   "metadata": {},
   "source": [
    "### Letra b)"
   ]
  },
  {
   "cell_type": "markdown",
   "metadata": {},
   "source": [
    "Vamos agora resolver o sistema apresentado usando o método descrito por Newman em seu livro *Computational Physics*. Primeiramente, definimos o vetor coluna `v` e os arrays nulos `x` e `y` que irão receber as soluções $x$ e $y$:"
   ]
  },
  {
   "cell_type": "code",
   "execution_count": 17,
   "metadata": {},
   "outputs": [],
   "source": [
    "v = np.array ([-4,3,9,7],dtype = float)\n",
    "\n",
    "y = np.empty (N,dtype = float)\n",
    "x = np.empty (N,dtype = float)"
   ]
  },
  {
   "cell_type": "markdown",
   "metadata": {},
   "source": [
    "Agora resolvemos o nosso sistema em `x` e em `y`:"
   ]
  },
  {
   "cell_type": "code",
   "execution_count": 18,
   "metadata": {},
   "outputs": [],
   "source": [
    "for row in range (N-1,-1,-1):\n",
    "    y[row] = v[row]\n",
    "    for col in range (row+1 , N):\n",
    "        y[row] -= L[row,col]*y[col]\n",
    "\n",
    "\n",
    "for row in range (N-1,-1,-1):\n",
    "    x[row] = y[row]\n",
    "    for col in range (row+1 , N):\n",
    "        x[row] -= U[row,col]*x[col]"
   ]
  },
  {
   "cell_type": "markdown",
   "metadata": {},
   "source": [
    "Agora vamos printar os resultados:"
   ]
  },
  {
   "cell_type": "code",
   "execution_count": 19,
   "metadata": {},
   "outputs": [
    {
     "name": "stdout",
     "output_type": "stream",
     "text": [
      "x =  [-43.1  35.2   9.    7. ]\n",
      "y =  [-4.  3.  9.  7.]\n"
     ]
    }
   ],
   "source": [
    "print('x = ', x)\n",
    "print('y = ', y)"
   ]
  },
  {
   "cell_type": "markdown",
   "metadata": {},
   "source": [
    "Agora vamos resolver o nosso sistema em `x` usando a função `np.linalg.solver(A,v)` para podermos comparar os\n",
    "resultados obtidos:"
   ]
  },
  {
   "cell_type": "code",
   "execution_count": 20,
   "metadata": {},
   "outputs": [
    {
     "name": "stdout",
     "output_type": "stream",
     "text": [
      "Usando o Numpy : \n",
      "\n",
      " x =  [-43.1  35.2   9.    7. ]\n"
     ]
    }
   ],
   "source": [
    "print('Usando o Numpy :', '\\n\\n', 'x = ', np.linalg.solve(A,v))"
   ]
  },
  {
   "cell_type": "markdown",
   "metadata": {},
   "source": [
    "Analogamente ao que ocorreu no problema 1, obtivemos basicamente o mesmo resultado usando a função np.linalg.solve()."
   ]
  },
  {
   "cell_type": "markdown",
   "metadata": {},
   "source": [
    "$\\text{ }$"
   ]
  },
  {
   "cell_type": "markdown",
   "metadata": {},
   "source": [
    "## Problema 4"
   ]
  },
  {
   "cell_type": "markdown",
   "metadata": {},
   "source": [
    "Considerando o circuito em questão e considerando que as voltagens no pontos 1, 2 e 3 são da forma $V_{k}=x_{k}e^{i\\omega t}$, com $k=1,2,3$, podemos aplicar a lei de Kircchoff em cada um dos três pontos, juntamente com as leis de Ohm e da capacitância e obter os seguintes resultados:"
   ]
  },
  {
   "cell_type": "markdown",
   "metadata": {},
   "source": [
    "**Para o ponto 1:**"
   ]
  },
  {
   "cell_type": "markdown",
   "metadata": {},
   "source": [
    "$$\\frac{x_{1}e^{i\\omega t}-x_{+}e^{i\\omega t}}{R_{1}}+\\frac{x_{1}e^{i\\omega t}-0}{R_{4}}+C_{1}\\frac{dV_{1}}{dt}-C_{1}\\frac{dV_{2}}{dt}=0\\implies$$"
   ]
  },
  {
   "cell_type": "markdown",
   "metadata": {},
   "source": [
    "$$\\frac{x_{1}e^{i\\omega t}-x_{+}e^{i\\omega t}}{R_{1}}+\\frac{x_{1}e^{i\\omega t}}{R_{4}}+i\\omega C_{1}x_{1}e^{i\\omega t}-i\\omega C_{1}x_{2}e^{i\\omega t}=0\\implies$$"
   ]
  },
  {
   "cell_type": "markdown",
   "metadata": {},
   "source": [
    "$$\\therefore\\text{  }\\text{  }\\boxed{\\Bigg(\\frac{1}{R_{1}}+\\frac{1}{R_{4}}+i\\omega C_{1}\\Bigg)x_{1}-i\\omega C_{1}x_{2}=\\frac{x_{+}}{R_{1}}}$$"
   ]
  },
  {
   "cell_type": "markdown",
   "metadata": {},
   "source": [
    "$\\blacksquare$"
   ]
  },
  {
   "cell_type": "markdown",
   "metadata": {},
   "source": [
    "**Para o ponto 2:**"
   ]
  },
  {
   "cell_type": "markdown",
   "metadata": {},
   "source": [
    "$$\\frac{x_{2}e^{i\\omega t}-x_{+}e^{i\\omega t}}{R_{2}}+\\frac{x_{2}e^{i\\omega t}-0}{R_{5}}+C_{1}\\frac{dV_{2}}{dt}-C_{2}\\frac{dV_{2}}{dt}-C_{2}\\frac{dV_{3}}{dt}=0\\implies$$"
   ]
  },
  {
   "cell_type": "markdown",
   "metadata": {},
   "source": [
    "$$\\frac{x_{2}e^{i\\omega t}-x_{+}e^{i\\omega t}}{R_{2}}+\\frac{x_{2}e^{i\\omega t}}{R_{5}}+i\\omega C_{1}x_{2}e^{i\\omega t}+i\\omega C_{1}x_{1}e^{i\\omega t}+i\\omega C_{2}x_{2}e^{i\\omega t}-i\\omega C_{2}x_{3}e^{i\\omega t}=0\\implies$$"
   ]
  },
  {
   "cell_type": "markdown",
   "metadata": {},
   "source": [
    "$$\\therefore\\text{  }\\text{  }\\boxed{\\Bigg(\\frac{1}{R_{2}}+\\frac{1}{R_{5}}+i\\omega C_{1}+i\\omega C_{2}\\Bigg)x_{2}-i\\omega C_{1}x_{1}-i\\omega C_{2}x_{3}=\\frac{x_{+}}{R_{2}}}$$"
   ]
  },
  {
   "cell_type": "markdown",
   "metadata": {},
   "source": [
    "$\\blacksquare$"
   ]
  },
  {
   "cell_type": "markdown",
   "metadata": {},
   "source": [
    "**Para o ponto 3:**"
   ]
  },
  {
   "cell_type": "markdown",
   "metadata": {},
   "source": [
    "$$\\frac{x_{3}e^{i\\omega t}-x_{+}e^{i\\omega t}}{R_{3}}+\\frac{x_{3}e^{i\\omega t}-0}{R_{6}}+C_{2}\\frac{dV_{3}}{dt}-C_{2}\\frac{dV_{3}}{dt}=0\\implies$$"
   ]
  },
  {
   "cell_type": "markdown",
   "metadata": {},
   "source": [
    "$$\\frac{x_{3}e^{i\\omega t}-x_{+}e^{i\\omega t}}{R_{3}}+\\frac{x_{3}e^{i\\omega t}}{R_{6}}+i\\omega C_{2}x_{3}e^{i\\omega t}-i\\omega C_{2}x_{2}e^{i\\omega t}=0\\implies$$"
   ]
  },
  {
   "cell_type": "markdown",
   "metadata": {},
   "source": [
    "$$\\therefore\\text{  }\\text{  }\\boxed{\\Bigg(\\frac{1}{R_{3}}+\\frac{1}{R_{6}}+i\\omega C_{2}\\Bigg)x_{3}-i\\omega C_{2}x_{2}=\\frac{x_{+}}{R_{3}}}$$"
   ]
  },
  {
   "cell_type": "markdown",
   "metadata": {},
   "source": [
    "$\\blacksquare$"
   ]
  },
  {
   "cell_type": "markdown",
   "metadata": {},
   "source": [
    "Podemos escrever o nosso sistema de três equações na seguinte forma matricial:"
   ]
  },
  {
   "cell_type": "markdown",
   "metadata": {},
   "source": [
    "$$\\begin{gather} \\begin{pmatrix} \\frac{1}{R_1}+\\frac{1}{R_4}+i\\omega C_1 & -i\\omega C_1 & 0\\\\ -i\\omega C_1 & \\frac{1}{R_2}+\\frac{1}{R_5}+i\\omega C_1+i\\omega C_2 & -i\\omega C_2 \\\\ 0 & i\\omega C_2 & \\frac{1}{R_3}+\\frac{1}{R_6}+i\\omega C_2 \\end{pmatrix} \\begin{pmatrix} x_1\\\\ x_2\\\\ x_3 \\end{pmatrix} = \\begin{pmatrix} \\frac{x_+}{R_1}\\\\ \\frac{x_+}{R_2}\\\\ \\frac{x_+}{R_3} \\end{pmatrix} \\end{gather}$$"
   ]
  },
  {
   "cell_type": "markdown",
   "metadata": {},
   "source": [
    "### Letra b)"
   ]
  },
  {
   "cell_type": "markdown",
   "metadata": {},
   "source": [
    "Comecemos definindo algumas constantes fornecidas no enunciado e que serão usadas posteriormente:"
   ]
  },
  {
   "cell_type": "code",
   "execution_count": 21,
   "metadata": {},
   "outputs": [],
   "source": [
    "R1 , R3 , R5 , = 1e3 , 1e3 , 1e3\n",
    "R2 , R4 , R6 , = 2e3 , 2e3 , 2e3\n",
    "C1 , C2 = 1e-6 , 0.5e-6\n",
    "x_plus = 3\n",
    "w = 1e3"
   ]
  },
  {
   "cell_type": "markdown",
   "metadata": {},
   "source": [
    "Agora definimos a nossa matriz quadrada `A` e o vetor coluna `v`:"
   ]
  },
  {
   "cell_type": "code",
   "execution_count": 22,
   "metadata": {},
   "outputs": [],
   "source": [
    "A = np.array ([[1/R1 + 1/R4 + 1j*w*C1 , -1j*w*C1 , 0],\n",
    "              [-1j*w*C1 , 1/R2 + 1/R5 + 1j*w*C1 + 1j*w*C2 , -1j*w*C2],\n",
    "              [0 , 1j*w*C2 , 1/R3 + 1/R6 + 1j*w*C2]],dtype = complex)\n",
    "\n",
    "v = np.array ([x_plus/R1 , x_plus/R2 , x_plus/R3],dtype = complex)"
   ]
  },
  {
   "cell_type": "markdown",
   "metadata": {},
   "source": [
    "Agora criamos uma função chamada `gauss_jordan(A, v)` que irá resolver o nosso sistema usando o método de Gauss-Jordan:"
   ]
  },
  {
   "cell_type": "code",
   "execution_count": 23,
   "metadata": {},
   "outputs": [],
   "source": [
    "def gauss_jordan (A , v):\n",
    "    \n",
    "    N = len (v)\n",
    "    AA = np.zeros ([N , N+1],dtype = complex)\n",
    "    AA[:N,:N] = A\n",
    "    AA[:,N] = v\n",
    "    \n",
    "    for row in range (N):\n",
    "        AA[row,:] /= AA[row,row]\n",
    "        \n",
    "        for i in range (row):\n",
    "            AA[i,:] -= AA[i,row]*AA[row,:]\n",
    "            \n",
    "        for i in range (row + 1,N):\n",
    "            AA[i,:] -= AA[i,row]*AA[row,:]\n",
    "    \n",
    "    return AA[:,N]"
   ]
  },
  {
   "cell_type": "markdown",
   "metadata": {},
   "source": [
    "**OBS:** No Python, usa-se a letra `j` para representar a parte complexa de um número>"
   ]
  },
  {
   "cell_type": "markdown",
   "metadata": {},
   "source": [
    "Agora vamos printar a solução do sistema usando o método implementado logo acima:"
   ]
  },
  {
   "cell_type": "code",
   "execution_count": 24,
   "metadata": {},
   "outputs": [
    {
     "name": "stdout",
     "output_type": "stream",
     "text": [
      "[1.80789159-0.1315265j  1.61060183+0.15663611j 1.68593065-1.09884416j]\n"
     ]
    }
   ],
   "source": [
    "print (gauss_jordan (A , v))"
   ]
  },
  {
   "cell_type": "markdown",
   "metadata": {},
   "source": [
    "Agora vamos resolver o mesmo sistema porém usando a função `np.linalg.solve()` para podermos comparar os resultados:"
   ]
  },
  {
   "cell_type": "code",
   "execution_count": 25,
   "metadata": {},
   "outputs": [
    {
     "name": "stdout",
     "output_type": "stream",
     "text": [
      "[1.80789159-0.1315265j  1.61060183+0.15663611j 1.68593065-1.09884416j]\n"
     ]
    }
   ],
   "source": [
    "print(np.linalg.solve(A,v))"
   ]
  },
  {
   "cell_type": "markdown",
   "metadata": {},
   "source": [
    "Analogamente ao que ocorreu nos problemas 1 e 3, os resultados obtidos da resolução do sistema utilizando o método implementado e o que foram obtidos usando a função `np.linalg.solve()` foram os mesmo."
   ]
  }
 ],
 "metadata": {
  "kernelspec": {
   "display_name": "Python 3",
   "language": "python",
   "name": "python3"
  },
  "language_info": {
   "codemirror_mode": {
    "name": "ipython",
    "version": 3
   },
   "file_extension": ".py",
   "mimetype": "text/x-python",
   "name": "python",
   "nbconvert_exporter": "python",
   "pygments_lexer": "ipython3",
   "version": "3.7.5"
  }
 },
 "nbformat": 4,
 "nbformat_minor": 4
}
